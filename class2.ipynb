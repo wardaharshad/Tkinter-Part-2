{
 "cells": [
  {
   "cell_type": "code",
   "execution_count": 6,
   "metadata": {
    "scrolled": false
   },
   "outputs": [],
   "source": [
    "#how to add labels and title\n",
    "import tkinter as tk\n",
    "from tkinter import *\n",
    "# Create instance\n",
    "win=Tk()\n",
    "# Add a title\n",
    "win.title(\"Unais\")\n",
    "# add a Label method 1\n",
    "tk.Label(win, text=\"A label\").grid(column=0,row=0)\n",
    "# start gui\n",
    "win.mainloop()\n"
   ]
  },
  {
   "cell_type": "code",
   "execution_count": 21,
   "metadata": {},
   "outputs": [],
   "source": [
    "# How to add buttons and labels at same time with clickable option\n",
    "import tkinter as tk\n",
    "from tkinter import *\n",
    "#creat instance\n",
    "win=Tk()\n",
    "# add label method 2\n",
    "mylabel=tk.Label(win, text=\"guess the number 10\")\n",
    "mylabel.grid(column=0 ,row=0)\n",
    "# button function\n",
    "def click_me():\n",
    "    btn.configure(text=\"winner\")\n",
    "    mylabel.configure(foreground='red')\n",
    "    mylabel.configure(text=\"10\")\n",
    "def click_me2():\n",
    "    btn2.configure(text=\"looser\")\n",
    "    mylabel.configure(foreground='red')\n",
    "    mylabel.configure(text=\"9\")\n",
    "def click_me3():\n",
    "    btn3.configure(text=\"looser\")\n",
    "    mylabel.configure(foreground='red')\n",
    "    mylabel.configure(text=\"8\")\n",
    "def click_me4():\n",
    "    btn3.configure(text=\"looser\")\n",
    "    mylabel.configure(foreground='red')\n",
    "    mylabel.configure(text=\"100\")     \n",
    "    \n",
    "# adding a button    \n",
    "btn= tk.Button(win, text=\"guess 10\", command=click_me)    \n",
    "btn.grid(column=0, row=1)\n",
    "btn2= tk.Button(win, text=\"guess 10\", command=click_me2)    \n",
    "btn2.grid(column=0, row=2)\n",
    "btn3= tk.Button(win, text=\"guess 10\", command=click_me3)    \n",
    "btn3.grid(column=0, row=3)\n",
    "btn4= tk.Button(win, text=\"guess 10\", command=click_me4)    \n",
    "btn4.grid(column=0, row=4)\n",
    "win.mainloop()\n"
   ]
  },
  {
   "cell_type": "code",
   "execution_count": null,
   "metadata": {},
   "outputs": [],
   "source": []
  },
  {
   "cell_type": "code",
   "execution_count": null,
   "metadata": {},
   "outputs": [],
   "source": []
  }
 ],
 "metadata": {
  "kernelspec": {
   "display_name": "Python 3",
   "language": "python",
   "name": "python3"
  },
  "language_info": {
   "codemirror_mode": {
    "name": "ipython",
    "version": 3
   },
   "file_extension": ".py",
   "mimetype": "text/x-python",
   "name": "python",
   "nbconvert_exporter": "python",
   "pygments_lexer": "ipython3",
   "version": "3.7.4"
  }
 },
 "nbformat": 4,
 "nbformat_minor": 2
}
